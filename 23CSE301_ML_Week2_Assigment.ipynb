{
  "cells": [
    {
      "cell_type": "markdown",
      "metadata": {
        "id": "ka4UKZX6w9tu"
      },
      "source": [
        "**Enter your code for Exercise 1 in the following cells (add as many cell as you need)**\n",
        "\n",
        "---\n",
        "\n"
      ]
    },
    {
      "cell_type": "code",
      "execution_count": 1,
      "metadata": {
        "id": "crUBqTksw9_8"
      },
      "outputs": [],
      "source": [
        "import pandas as pd"
      ]
    },
    {
      "cell_type": "code",
      "execution_count": null,
      "metadata": {
        "id": "vC8SoIOOxL6N"
      },
      "outputs": [],
      "source": [
        "df = pd.read_csv(\"Iris.csv\")"
      ]
    },
    {
      "cell_type": "code",
      "execution_count": null,
      "metadata": {
        "id": "77LNhTVbxMCd"
      },
      "outputs": [],
      "source": [
        "print(df.head(10))\n",
        "print(df.tail(5))"
      ]
    },
    {
      "cell_type": "code",
      "execution_count": null,
      "metadata": {
        "id": "_NzJErdkxRNM"
      },
      "outputs": [],
      "source": [
        "print(df.info())\n",
        "print(df.describe())"
      ]
    },
    {
      "cell_type": "code",
      "execution_count": null,
      "metadata": {},
      "outputs": [],
      "source": [
        "df[df[\"SepalLengthCm\"] > 7.0] "
      ]
    },
    {
      "cell_type": "code",
      "execution_count": null,
      "metadata": {},
      "outputs": [],
      "source": [
        "df[\"Total_length\"] = df[\"SepalLengthCm\"] + df[\"SepalWidthCm\"]\n",
        "df1 = df\n",
        "df1.head(5)"
      ]
    },
    {
      "cell_type": "code",
      "execution_count": null,
      "metadata": {},
      "outputs": [],
      "source": [
        "df.groupby(\"Species\")['SepalLengthCm'].mean()"
      ]
    },
    {
      "cell_type": "code",
      "execution_count": null,
      "metadata": {},
      "outputs": [],
      "source": [
        "df.sort_values([\"SepalLengthCm\"])"
      ]
    },
    {
      "cell_type": "code",
      "execution_count": null,
      "metadata": {},
      "outputs": [],
      "source": [
        "df.isna().values.any()"
      ]
    },
    {
      "cell_type": "code",
      "execution_count": null,
      "metadata": {},
      "outputs": [],
      "source": [
        "df1.to_csv(\"output.csv\")"
      ]
    },
    {
      "cell_type": "markdown",
      "metadata": {
        "id": "yIjvuD_9xMa1"
      },
      "source": [
        "**Enter your code for Exercise 2 in the following cells (add as many cell as you need)**"
      ]
    },
    {
      "cell_type": "code",
      "execution_count": null,
      "metadata": {
        "id": "VIM7-5iDxQS9"
      },
      "outputs": [],
      "source": [
        "import matplotlib.pyplot as plt\n",
        "import seaborn as sns"
      ]
    },
    {
      "cell_type": "code",
      "execution_count": null,
      "metadata": {
        "id": "4-ZGyR3dxQdN"
      },
      "outputs": [],
      "source": [
        "sns.histplot(data=df, x=df[\"SepalLengthCm\"])\n",
        "plt.show()"
      ]
    },
    {
      "cell_type": "code",
      "execution_count": null,
      "metadata": {
        "id": "koA4trSexQm9"
      },
      "outputs": [],
      "source": [
        "sns.countplot(data=df, x=df[\"SepalLengthCm\"])\n",
        "plt.show()"
      ]
    },
    {
      "cell_type": "code",
      "execution_count": null,
      "metadata": {
        "id": "UUOp3PYGxQrN"
      },
      "outputs": [],
      "source": [
        " sns.scatterplot(x=df[\"Species\"], y=df[\"SepalLengthCm\"], data=df)\n",
        " plt.show()"
      ]
    },
    {
      "cell_type": "code",
      "execution_count": null,
      "metadata": {},
      "outputs": [],
      "source": [
        "numeric_df= df.select_dtypes(include=['number'])\n",
        "sns.heatmap(numeric_df.corr(), annot=True, cmap='coolwarm')\n",
        "plt.show()"
      ]
    },
    {
      "cell_type": "code",
      "execution_count": null,
      "metadata": {},
      "outputs": [],
      "source": [
        "sns.pairplot(df[['Species', 'SepalLengthCm', \"SepalWidthCm\"]])\n",
        "plt.show()"
      ]
    },
    {
      "cell_type": "code",
      "execution_count": null,
      "metadata": {},
      "outputs": [],
      "source": []
    }
  ],
  "metadata": {
    "colab": {
      "provenance": []
    },
    "kernelspec": {
      "display_name": "venv",
      "language": "python",
      "name": "venv"
    },
    "language_info": {
      "codemirror_mode": {
        "name": "ipython",
        "version": 3
      },
      "file_extension": ".py",
      "mimetype": "text/x-python",
      "name": "python",
      "nbconvert_exporter": "python",
      "pygments_lexer": "ipython3",
      "version": "3.10.0"
    }
  },
  "nbformat": 4,
  "nbformat_minor": 0
}
